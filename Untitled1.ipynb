{
 "cells": [
  {
   "cell_type": "code",
   "execution_count": 1,
   "id": "7f4abbd6-eb7d-4617-b0a4-aa3d57e4a451",
   "metadata": {},
   "outputs": [
    {
     "name": "stdout",
     "output_type": "stream",
     "text": [
      "-- Solving for t = 0.00 --\n",
      "Residual: 0.0000e+00\n"
     ]
    },
    {
     "ename": "Error",
     "evalue": "error code 62\n[0] SNESSolve() at /usr/local/petsc/src/snes/interface/snes.c:4738\n[0] SNESSolve_NEWTONLS() at /usr/local/petsc/src/snes/impls/ls/ls.c:169\n[0] SNESComputeFunction() at /usr/local/petsc/src/snes/interface/snes.c:2396\n[0] VecGhostUpdateBegin() at /usr/local/petsc/src/vec/vec/impls/mpi/commonmpvec.c:215\n[0] Invalid argument\n[0] Vector is not ghosted",
     "output_type": "error",
     "traceback": [
      "\u001b[0;31m---------------------------------------------------------------------------\u001b[0m",
      "\u001b[0;31mError\u001b[0m                                     Traceback (most recent call last)",
      "Cell \u001b[0;32mIn[1], line 2\u001b[0m\n\u001b[1;32m      1\u001b[0m \u001b[38;5;28;01mfrom\u001b[39;00m \u001b[38;5;21;01mEX_GradientDamage\u001b[39;00m \u001b[38;5;28;01mimport\u001b[39;00m main \u001b[38;5;28;01mas\u001b[39;00m EXGD\n\u001b[0;32m----> 2\u001b[0m \u001b[43mEXGD\u001b[49m\u001b[43m(\u001b[49m\u001b[38;5;124;43m'\u001b[39;49m\u001b[38;5;124;43mNewtonLS\u001b[39;49m\u001b[38;5;124;43m'\u001b[39;49m\u001b[43m)\u001b[49m\n",
      "File \u001b[0;32m/shared/EX_GradientDamage.py:60\u001b[0m, in \u001b[0;36mmain\u001b[0;34m(method)\u001b[0m\n\u001b[1;32m     58\u001b[0m     AMEN(u,v, elastic_solver, damage_solver, EN_solver)\n\u001b[1;32m     59\u001b[0m \u001b[38;5;28;01melif\u001b[39;00m method\u001b[38;5;241m==\u001b[39m\u001b[38;5;124m'\u001b[39m\u001b[38;5;124mNewtonLS\u001b[39m\u001b[38;5;124m'\u001b[39m:\n\u001b[0;32m---> 60\u001b[0m     \u001b[43mEN\u001b[49m\u001b[38;5;241;43m.\u001b[39;49m\u001b[43msolver\u001b[49m\u001b[38;5;241;43m.\u001b[39;49m\u001b[43msolve\u001b[49m\u001b[43m(\u001b[49m\u001b[38;5;28;43;01mNone\u001b[39;49;00m\u001b[43m,\u001b[49m\u001b[43muv\u001b[49m\u001b[43m)\u001b[49m\n\u001b[1;32m     61\u001b[0m \u001b[38;5;28;01melse\u001b[39;00m:\n\u001b[1;32m     62\u001b[0m     alternate_minimization(u, v, elastic_solver, damage_solver)\n",
      "File \u001b[0;32mpetsc4py/PETSc/SNES.pyx:1555\u001b[0m, in \u001b[0;36mpetsc4py.PETSc.SNES.solve\u001b[0;34m()\u001b[0m\n",
      "File \u001b[0;32mpetsc4py/PETSc/PETSc.pyx:323\u001b[0m, in \u001b[0;36mpetsc4py.PETSc.PetscPythonErrorHandler\u001b[0;34m()\u001b[0m\n",
      "File \u001b[0;32mpetsc4py/PETSc/PETSc.pyx:323\u001b[0m, in \u001b[0;36mpetsc4py.PETSc.PetscPythonErrorHandler\u001b[0;34m()\u001b[0m\n",
      "File \u001b[0;32mpetsc4py/PETSc/PETSc.pyx:323\u001b[0m, in \u001b[0;36mpetsc4py.PETSc.PetscPythonErrorHandler\u001b[0;34m()\u001b[0m\n",
      "File \u001b[0;32mpetsc4py/PETSc/petscsnes.pxi:325\u001b[0m, in \u001b[0;36mpetsc4py.PETSc.SNES_Function\u001b[0;34m()\u001b[0m\n",
      "File \u001b[0;32m/shared/EX_GD_NewtonSolver.py:48\u001b[0m, in \u001b[0;36mNewtonSolver.Fn\u001b[0;34m(self, snes, x, F)\u001b[0m\n\u001b[1;32m     46\u001b[0m \u001b[38;5;66;03m# F.assemble()\u001b[39;00m\n\u001b[1;32m     47\u001b[0m \u001b[38;5;28mprint\u001b[39m(\u001b[38;5;124mf\u001b[39m\u001b[38;5;124m\"\u001b[39m\u001b[38;5;124mResidual: \u001b[39m\u001b[38;5;132;01m{\u001b[39;00mF\u001b[38;5;241m.\u001b[39mnorm()\u001b[38;5;132;01m:\u001b[39;00m\u001b[38;5;124m3.4e\u001b[39m\u001b[38;5;132;01m}\u001b[39;00m\u001b[38;5;124m\"\u001b[39m)\n\u001b[0;32m---> 48\u001b[0m \u001b[43mF\u001b[49m\u001b[38;5;241;43m.\u001b[39;49m\u001b[43mghostUpdate\u001b[49m\u001b[43m(\u001b[49m\u001b[43maddv\u001b[49m\u001b[38;5;241;43m=\u001b[39;49m\u001b[43mPETSc\u001b[49m\u001b[38;5;241;43m.\u001b[39;49m\u001b[43mInsertMode\u001b[49m\u001b[38;5;241;43m.\u001b[39;49m\u001b[43mADD\u001b[49m\u001b[43m,\u001b[49m\u001b[43m \u001b[49m\u001b[43mmode\u001b[49m\u001b[38;5;241;43m=\u001b[39;49m\u001b[43mPETSc\u001b[49m\u001b[38;5;241;43m.\u001b[39;49m\u001b[43mScatterMode\u001b[49m\u001b[38;5;241;43m.\u001b[39;49m\u001b[43mREVERSE\u001b[49m\u001b[43m)\u001b[49m\n",
      "File \u001b[0;32mpetsc4py/PETSc/Vec.pyx:3237\u001b[0m, in \u001b[0;36mpetsc4py.PETSc.Vec.ghostUpdate\u001b[0;34m()\u001b[0m\n",
      "\u001b[0;31mError\u001b[0m: error code 62\n[0] SNESSolve() at /usr/local/petsc/src/snes/interface/snes.c:4738\n[0] SNESSolve_NEWTONLS() at /usr/local/petsc/src/snes/impls/ls/ls.c:169\n[0] SNESComputeFunction() at /usr/local/petsc/src/snes/interface/snes.c:2396\n[0] VecGhostUpdateBegin() at /usr/local/petsc/src/vec/vec/impls/mpi/commonmpvec.c:215\n[0] Invalid argument\n[0] Vector is not ghosted"
     ]
    }
   ],
   "source": [
    "from EX_GradientDamage import main as EXGD\n",
    "EXGD('NewtonLS')"
   ]
  },
  {
   "cell_type": "code",
   "execution_count": null,
   "id": "108d83bb-2b0b-403a-bcc0-2333a574ddec",
   "metadata": {},
   "outputs": [],
   "source": [
    "EXGD('AltMin')"
   ]
  },
  {
   "cell_type": "code",
   "execution_count": null,
   "id": "05f8f426-0ec3-4b78-98c7-f289ae5ed083",
   "metadata": {},
   "outputs": [],
   "source": []
  }
 ],
 "metadata": {
  "kernelspec": {
   "display_name": "Python 3 (ipykernel)",
   "language": "python",
   "name": "python3"
  },
  "language_info": {
   "codemirror_mode": {
    "name": "ipython",
    "version": 3
   },
   "file_extension": ".py",
   "mimetype": "text/x-python",
   "name": "python",
   "nbconvert_exporter": "python",
   "pygments_lexer": "ipython3",
   "version": "3.10.12"
  }
 },
 "nbformat": 4,
 "nbformat_minor": 5
}
