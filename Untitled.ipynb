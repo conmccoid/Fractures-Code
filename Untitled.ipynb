{
 "cells": [
  {
   "cell_type": "code",
   "execution_count": 1,
   "id": "3096a007-ed1a-4ff9-ae9a-4ba1c940e912",
   "metadata": {},
   "outputs": [],
   "source": [
    "import numpy as np\n",
    "from mpi4py import MPI\n",
    "from petsc4py import PETSc\n",
    "from dolfinx import fem\n",
    "from dolfinx.fem import petsc\n",
    "\n",
    "from EX_GD_Domain import domain, BCs, VariationalFormulation\n",
    "from EX_GD_Solvers import Elastic, Damage, Newton, alternate_minimization, AMEN\n",
    "from EX_GD_Visualization import plot_damage_state"
   ]
  },
  {
   "cell_type": "code",
   "execution_count": 2,
   "id": "f1d7f9d9-2376-40d6-8d81-7a618143834a",
   "metadata": {},
   "outputs": [],
   "source": [
    "L=1.\n",
    "H=0.3\n",
    "cell_size=0.1/6\n",
    "u, v, dom=domain(L,H,cell_size)\n",
    "V_u=u.function_space\n",
    "V_v=v.function_space\n",
    "bcs_u, bcs_v, u_D = BCs(u,v,dom,L,H)\n",
    "E_u, E_v, E_uu, E_vv, E_uv, E_vu, elastic_energy, dissipated_energy, load_c = VariationalFormulation(u,v,dom)"
   ]
  },
  {
   "cell_type": "code",
   "execution_count": 3,
   "id": "ed4f29c0-d84a-445a-8946-c5549da29eaa",
   "metadata": {},
   "outputs": [],
   "source": [
    "from EX_GD_NewtonSolver import NewtonSolver"
   ]
  },
  {
   "cell_type": "code",
   "execution_count": 4,
   "id": "bb40cf86-1253-4152-b23f-29a8b915528d",
   "metadata": {},
   "outputs": [],
   "source": [
    "elastic_problem, elastic_solver = Elastic(E_u, u, bcs_u, E_uu)\n",
    "damage_problem, damage_solver = Damage(E_v, v, bcs_v, E_vv)\n",
    "v_lb =  fem.Function(V_v, name=\"Lower bound\")\n",
    "v_ub =  fem.Function(V_v, name=\"Upper bound\")\n",
    "v_lb.x.array[:] = 0.0\n",
    "v_ub.x.array[:] = 1.0\n",
    "damage_solver.setVariableBounds(v_lb.vector,v_ub.vector)"
   ]
  },
  {
   "cell_type": "code",
   "execution_count": 5,
   "id": "53b8fd3b-a373-4403-83f7-ed406de175ab",
   "metadata": {},
   "outputs": [],
   "source": [
    "EN=NewtonSolver(elastic_solver, damage_solver, elastic_problem, damage_problem, E_uu, E_uv, E_vu, E_vv)\n",
    "EN.setUp()"
   ]
  },
  {
   "cell_type": "code",
   "execution_count": 6,
   "id": "c5acd74f-2ced-441e-bd1c-e1e7ec1e1cd5",
   "metadata": {},
   "outputs": [
    {
     "data": {
      "text/plain": [
       "(1e-09, 1e-50, 1e-08, 50)"
      ]
     },
     "execution_count": 6,
     "metadata": {},
     "output_type": "execute_result"
    }
   ],
   "source": [
    "EN.solver.getTolerances()"
   ]
  },
  {
   "cell_type": "code",
   "execution_count": 7,
   "id": "9d8415af-4115-4fef-89a9-d829bc4b3f36",
   "metadata": {},
   "outputs": [],
   "source": [
    "J_test=EN.solver.getJacobian()"
   ]
  },
  {
   "cell_type": "code",
   "execution_count": 27,
   "id": "5c545321-57ef-4edb-9c45-07c6a54a8027",
   "metadata": {},
   "outputs": [
    {
     "name": "stdout",
     "output_type": "stream",
     "text": [
      "Norm of x:5.8966e+01, Norm of uv:0.0000e+00\n"
     ]
    }
   ],
   "source": [
    "xu=fem.Function(V_u)\n",
    "xv=fem.Function(V_v)\n",
    "x=PETSc.Vec().createNest([xu.vector,xv.vector])\n",
    "x.array[:]=1\n",
    "uv=PETSc.Vec().createNest([u.vector,v.vector])\n",
    "print(f\"Norm of x:{x.norm():3.4e}, Norm of uv:{uv.norm():3.4e}\")"
   ]
  },
  {
   "cell_type": "code",
   "execution_count": 36,
   "id": "7c4b1cb5-c6aa-4f90-989f-8154dfd5d585",
   "metadata": {},
   "outputs": [],
   "source": [
    "b_u = PETSc.Vec().create()\n",
    "b_u.setType('mpi')\n",
    "b_u.setSizes(u.vector.getSize())\n",
    "b_v = PETSc.Vec().create()\n",
    "b_v.setType('mpi')\n",
    "b_v.setSizes(v.vector.getSize())\n",
    "b = PETSc.Vec().createNest([b_u,b_v])"
   ]
  },
  {
   "cell_type": "code",
   "execution_count": 37,
   "id": "d25eaf31-c27c-4b33-ad4e-fde452511cba",
   "metadata": {},
   "outputs": [
    {
     "name": "stdout",
     "output_type": "stream",
     "text": [
      "Residual: 2.2107e+01\n"
     ]
    }
   ],
   "source": [
    "EN.Fn(None,x,b)"
   ]
  },
  {
   "cell_type": "code",
   "execution_count": 38,
   "id": "b46d9387-dee3-4975-8b84-62fccd22b08e",
   "metadata": {},
   "outputs": [
    {
     "data": {
      "text/plain": [
       "<petsc4py.PETSc.Vec at 0x7f2d0d84d3a0>"
      ]
     },
     "execution_count": 38,
     "metadata": {},
     "output_type": "execute_result"
    }
   ],
   "source": [
    "b"
   ]
  },
  {
   "cell_type": "code",
   "execution_count": 39,
   "id": "8dcf2e8a-ef15-4e80-87be-336562f23e58",
   "metadata": {},
   "outputs": [
    {
     "data": {
      "text/plain": [
       "0.0"
      ]
     },
     "execution_count": 39,
     "metadata": {},
     "output_type": "execute_result"
    }
   ],
   "source": [
    "b.norm()"
   ]
  },
  {
   "cell_type": "code",
   "execution_count": 40,
   "id": "ca58c1b6-746e-434c-82dd-88ae19f456f2",
   "metadata": {},
   "outputs": [
    {
     "data": {
      "text/plain": [
       "0.0"
      ]
     },
     "execution_count": 40,
     "metadata": {},
     "output_type": "execute_result"
    }
   ],
   "source": [
    "x.norm()"
   ]
  },
  {
   "cell_type": "code",
   "execution_count": null,
   "id": "6a40a8e4-6a37-40e6-a59f-5bd4df198dc6",
   "metadata": {},
   "outputs": [],
   "source": []
  }
 ],
 "metadata": {
  "kernelspec": {
   "display_name": "Python 3 (ipykernel)",
   "language": "python",
   "name": "python3"
  },
  "language_info": {
   "codemirror_mode": {
    "name": "ipython",
    "version": 3
   },
   "file_extension": ".py",
   "mimetype": "text/x-python",
   "name": "python",
   "nbconvert_exporter": "python",
   "pygments_lexer": "ipython3",
   "version": "3.10.12"
  }
 },
 "nbformat": 4,
 "nbformat_minor": 5
}
