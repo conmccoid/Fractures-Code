{
 "cells": [
  {
   "cell_type": "code",
   "execution_count": 1,
   "id": "3096a007-ed1a-4ff9-ae9a-4ba1c940e912",
   "metadata": {},
   "outputs": [],
   "source": [
    "import numpy as np\n",
    "from mpi4py import MPI\n",
    "from petsc4py import PETSc\n",
    "from dolfinx import fem\n",
    "from dolfinx.fem import petsc\n",
    "\n",
    "from EX_GD_Domain import domain, BCs, VariationalFormulation\n",
    "from EX_GD_Solvers import Elastic, Damage, Newton, alternate_minimization, AMEN\n",
    "from EX_GD_Visualization import plot_damage_state"
   ]
  },
  {
   "cell_type": "code",
   "execution_count": 2,
   "id": "f1d7f9d9-2376-40d6-8d81-7a618143834a",
   "metadata": {},
   "outputs": [],
   "source": [
    "L=1.\n",
    "H=0.3\n",
    "cell_size=0.1/6\n",
    "u, v, dom=domain(L,H,cell_size)\n",
    "V_u=u.function_space\n",
    "V_v=v.function_space\n",
    "bcs_u, bcs_v, u_D = BCs(u,v,dom,L,H)\n",
    "E_u, E_v, E_uu, E_vv, E_uv, E_vu, elastic_energy, dissipated_energy, load_c = VariationalFormulation(u,v,dom)"
   ]
  },
  {
   "cell_type": "code",
   "execution_count": 3,
   "id": "ed4f29c0-d84a-445a-8946-c5549da29eaa",
   "metadata": {},
   "outputs": [],
   "source": [
    "from EX_GD_NewtonSolver import NewtonSolver"
   ]
  },
  {
   "cell_type": "code",
   "execution_count": null,
   "id": "bb40cf86-1253-4152-b23f-29a8b915528d",
   "metadata": {},
   "outputs": [],
   "source": [
    "elastic_problem, elastic_solver = Elastic(E_u, u, bcs_u, E_uu)\n",
    "damage_problem, damage_solver = Damage(E_v, v, bcs_v, E_vv)\n",
    "v_lb =  fem.Function(V_v, name=\"Lower bound\")\n",
    "v_ub =  fem.Function(V_v, name=\"Upper bound\")\n",
    "v_lb.x.array[:] = 0.0\n",
    "v_ub.x.array[:] = 1.0\n",
    "damage_solver.setVariableBounds(v_lb.x.petsc_vec,v_ub.x.petsc_vec)"
   ]
  },
  {
   "cell_type": "code",
   "execution_count": 5,
   "id": "53b8fd3b-a373-4403-83f7-ed406de175ab",
   "metadata": {},
   "outputs": [],
   "source": [
    "EN=NewtonSolver(elastic_solver, damage_solver, elastic_problem, damage_problem, E_uu, E_uv, E_vu, E_vv)\n",
    "EN.setUp()"
   ]
  },
  {
   "cell_type": "code",
   "execution_count": 6,
   "id": "c5acd74f-2ced-441e-bd1c-e1e7ec1e1cd5",
   "metadata": {},
   "outputs": [
    {
     "data": {
      "text/plain": [
       "(1e-09, 1e-50, 1e-08, 50)"
      ]
     },
     "execution_count": 6,
     "metadata": {},
     "output_type": "execute_result"
    }
   ],
   "source": [
    "EN.solver.getTolerances()"
   ]
  },
  {
   "cell_type": "code",
   "execution_count": 7,
   "id": "9d8415af-4115-4fef-89a9-d829bc4b3f36",
   "metadata": {},
   "outputs": [],
   "source": [
    "J_test=EN.solver.getJacobian()"
   ]
  },
  {
   "cell_type": "code",
   "execution_count": null,
   "id": "5c545321-57ef-4edb-9c45-07c6a54a8027",
   "metadata": {},
   "outputs": [
    {
     "name": "stdout",
     "output_type": "stream",
     "text": [
      "Norm of x:5.8966e+01, Norm of uv:0.0000e+00\n"
     ]
    }
   ],
   "source": [
    "xu=fem.Function(V_u)\n",
    "xv=fem.Function(V_v)\n",
    "x=PETSc.Vec().createNest([xu.x.petsc_vec,xv.x.petsc_vec])\n",
    "x.array[:]=1\n",
    "uv=PETSc.Vec().createNest([u.x.petsc_vec,v.x.petsc_vec])\n",
    "print(f\"Norm of x:{x.norm():3.4e}, Norm of uv:{uv.norm():3.4e}\")"
   ]
  },
  {
   "cell_type": "code",
   "execution_count": null,
   "id": "7c4b1cb5-c6aa-4f90-989f-8154dfd5d585",
   "metadata": {},
   "outputs": [],
   "source": [
    "b_u = PETSc.Vec().create()\n",
    "b_u.setType('mpi')\n",
    "b_u.setSizes(u.x.petsc_vec.getSize())\n",
    "b_v = PETSc.Vec().create()\n",
    "b_v.setType('mpi')\n",
    "b_v.setSizes(v.x.petsc_vec.getSize())\n",
    "b = PETSc.Vec().createNest([b_u,b_v])"
   ]
  },
  {
   "cell_type": "code",
   "execution_count": 10,
   "id": "d25eaf31-c27c-4b33-ad4e-fde452511cba",
   "metadata": {},
   "outputs": [
    {
     "name": "stdout",
     "output_type": "stream",
     "text": [
      "Residual: 3.4044e+01\n"
     ]
    }
   ],
   "source": [
    "EN.Fn(None,x,b)"
   ]
  },
  {
   "cell_type": "code",
   "execution_count": 11,
   "id": "b46d9387-dee3-4975-8b84-62fccd22b08e",
   "metadata": {},
   "outputs": [
    {
     "data": {
      "text/plain": [
       "<petsc4py.PETSc.Vec at 0x7f990cb66b10>"
      ]
     },
     "execution_count": 11,
     "metadata": {},
     "output_type": "execute_result"
    }
   ],
   "source": [
    "b"
   ]
  },
  {
   "cell_type": "code",
   "execution_count": 12,
   "id": "f1ff3083-e487-48b6-9585-f44bded3d42f",
   "metadata": {},
   "outputs": [
    {
     "data": {
      "text/plain": [
       "34.044089061098404"
      ]
     },
     "execution_count": 12,
     "metadata": {},
     "output_type": "execute_result"
    }
   ],
   "source": [
    "b.norm()"
   ]
  },
  {
   "cell_type": "code",
   "execution_count": null,
   "id": "0340dce4-9161-403f-80f2-637e253ab2cb",
   "metadata": {},
   "outputs": [],
   "source": [
    "J_uu = PETSc.Mat().create()\n",
    "J_uu.setType('seqaij')\n",
    "J_uu.setSizes(u.x.petsc_vec.getSizes())\n",
    "J_vv = PETSc.Mat().create()\n",
    "J_vv.setType('seqaij')\n",
    "J_vv.setSizes(v.x.petsc_vec.getSizes())\n",
    "J_uv = PETSc.Mat().create()\n",
    "J_uv.setType('seqaij')\n",
    "J_uv.setSizes([u.x.petsc_vec.getSize(), v.x.petsc_vec.getSize()])\n",
    "J_vu = PETSc.Mat().create()\n",
    "J_vu.setType('seqaij')\n",
    "J_vu.setSizes([v.x.petsc_vec.getSize(), u.x.petsc_vec.getSize()])\n",
    "J = PETSc.Mat().createNest([[J_uu,J_uv],[J_vu,J_vv]])"
   ]
  },
  {
   "cell_type": "code",
   "execution_count": 17,
   "id": "d6b500b0-1049-4d48-bfdb-ba4b5e5cee87",
   "metadata": {},
   "outputs": [
    {
     "data": {
      "text/plain": [
       "<petsc4py.PETSc.Mat at 0x7f990462b920>"
      ]
     },
     "execution_count": 17,
     "metadata": {},
     "output_type": "execute_result"
    }
   ],
   "source": [
    "PJ = PETSc.Mat().createPython(J.getSize())\n",
    "PJ.setPythonContext(EN.PJ)\n",
    "PJ.setUp()"
   ]
  },
  {
   "cell_type": "code",
   "execution_count": 32,
   "id": "2b91d65d-3697-4234-8edc-8768fc4b1f03",
   "metadata": {},
   "outputs": [
    {
     "data": {
      "text/plain": [
       "(3477, 3477)"
      ]
     },
     "execution_count": 32,
     "metadata": {},
     "output_type": "execute_result"
    }
   ],
   "source": [
    "J.getSize()"
   ]
  },
  {
   "cell_type": "code",
   "execution_count": 37,
   "id": "2483876a-eea4-4cbd-aa39-9e2cb554a9bb",
   "metadata": {},
   "outputs": [
    {
     "data": {
      "text/plain": [
       "(2, 2)"
      ]
     },
     "execution_count": 37,
     "metadata": {},
     "output_type": "execute_result"
    }
   ],
   "source": [
    "J.getNestSize()"
   ]
  },
  {
   "cell_type": "code",
   "execution_count": null,
   "id": "0a98587a-3b87-4848-849a-660f1b34aeab",
   "metadata": {},
   "outputs": [
    {
     "data": {
      "text/plain": [
       "(2318, 2318, 1159, 1159)"
      ]
     },
     "execution_count": 40,
     "metadata": {},
     "output_type": "execute_result"
    }
   ],
   "source": [
    "u.x.petsc_vec.getSizes() + v.x.petsc_vec.getSizes()"
   ]
  },
  {
   "cell_type": "code",
   "execution_count": null,
   "id": "47a68e94-c54a-4853-96b3-12e7c90c27b0",
   "metadata": {},
   "outputs": [],
   "source": [
    "size=u.x.petsc_vec.getSize()+v.x.petsc_vec.getSize()"
   ]
  },
  {
   "cell_type": "code",
   "execution_count": 54,
   "id": "e9eeaee5-a485-4fc4-9cb8-14b10dd71a85",
   "metadata": {},
   "outputs": [],
   "source": [
    "J = PETSc.Mat().createPython(size)"
   ]
  },
  {
   "cell_type": "code",
   "execution_count": 56,
   "id": "ba75e124-3ebb-4a63-bae9-92fbb7ef23a3",
   "metadata": {},
   "outputs": [
    {
     "data": {
      "text/plain": [
       "(3477, 3477)"
      ]
     },
     "execution_count": 56,
     "metadata": {},
     "output_type": "execute_result"
    }
   ],
   "source": [
    "J.getSize()"
   ]
  },
  {
   "cell_type": "code",
   "execution_count": 52,
   "id": "789b1eb4-3a37-4cfc-80a7-cf250400b574",
   "metadata": {},
   "outputs": [],
   "source": []
  },
  {
   "cell_type": "code",
   "execution_count": null,
   "id": "d8ccc171-a018-48db-bba0-9701483fe8fa",
   "metadata": {},
   "outputs": [],
   "source": []
  }
 ],
 "metadata": {
  "kernelspec": {
   "display_name": "Python 3 (ipykernel)",
   "language": "python",
   "name": "python3"
  },
  "language_info": {
   "codemirror_mode": {
    "name": "ipython",
    "version": 3
   },
   "file_extension": ".py",
   "mimetype": "text/x-python",
   "name": "python",
   "nbconvert_exporter": "python",
   "pygments_lexer": "ipython3",
   "version": "3.12.3"
  }
 },
 "nbformat": 4,
 "nbformat_minor": 5
}
