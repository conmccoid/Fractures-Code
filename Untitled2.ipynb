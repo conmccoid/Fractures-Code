{
 "cells": [
  {
   "cell_type": "code",
   "execution_count": 1,
   "id": "0baf2256-fe5b-4d53-b95f-61d06554b795",
   "metadata": {},
   "outputs": [],
   "source": [
    "import ufl\n",
    "import numpy as np\n",
    "from mpi4py import MPI\n",
    "from petsc4py import PETSc\n",
    "from dolfinx import mesh, fem, log\n",
    "from dolfinx.fem.petsc import NonlinearProblem\n",
    "from dolfinx.nls.petsc import NewtonSolver"
   ]
  },
  {
   "cell_type": "code",
   "execution_count": 2,
   "id": "c52bd27a-91f9-450e-a5d1-41ab67cd1517",
   "metadata": {},
   "outputs": [],
   "source": [
    "def q(u):\n",
    "    return 1 + u**2\n",
    "\n",
    "domain=mesh.create_unit_square(MPI.COMM_WORLD,10,10)\n",
    "x=ufl.SpatialCoordinate(domain)\n",
    "u_ufl=1 + x[0] + 2*x[1]\n",
    "f=-ufl.div(q(u_ufl) * ufl.grad(u_ufl))"
   ]
  },
  {
   "cell_type": "code",
   "execution_count": 3,
   "id": "310dc19f-fc3a-4fc8-8865-9d51b35720e2",
   "metadata": {},
   "outputs": [],
   "source": [
    "V=fem.functionspace(domain, (\"Lagrange\",1))\n",
    "def u_exact(x): return eval(str(u_ufl))\n",
    "uD=fem.Function(V)\n",
    "uD.interpolate(u_exact)"
   ]
  },
  {
   "cell_type": "code",
   "execution_count": 4,
   "id": "d9a4114a-bdac-44ea-aeaa-961c6d29af63",
   "metadata": {},
   "outputs": [],
   "source": [
    "fdim = domain.topology.dim - 1 # facet dimension\n",
    "boundary_facets = mesh.locate_entities_boundary(domain, fdim, lambda x: np.full(x.shape[1], True, dtype=bool))\n",
    "boundary_dofs = fem.locate_dofs_topological(V, fdim, boundary_facets)\n",
    "bcs = fem.dirichletbc(uD, boundary_dofs)"
   ]
  },
  {
   "cell_type": "code",
   "execution_count": 5,
   "id": "9c6d2262-c202-4e1e-bdfa-8931b324d372",
   "metadata": {},
   "outputs": [],
   "source": [
    "u = fem.Function(V)\n",
    "v = ufl.TestFunction(V)\n",
    "F = q(u) * ufl.inner(ufl.grad(u), ufl.grad(v)) * ufl.dx - f*v*ufl.dx\n",
    "problem = NonlinearProblem(F, u, bcs=[bcs])"
   ]
  },
  {
   "cell_type": "code",
   "execution_count": 50,
   "id": "8caf4c2f-7a9f-41a2-b392-7e81bc19b0f3",
   "metadata": {},
   "outputs": [],
   "source": [
    "from SNESProblem import SNESProblem\n",
    "from dolfinx import la\n",
    "from dolfinx.fem import petsc\n",
    "problem2 = SNESProblem(F, u, bcs=[bcs])\n",
    "b = la.create_petsc_vector(u.function_space.dofmap.index_map, u.function_space.dofmap.index_map_bs)\n",
    "J = petsc.create_matrix(problem2.a)\n",
    "solver2 = PETSc.SNES().create(MPI.COMM_WORLD)\n",
    "solver2.setFunction(problem2.Fn,b)\n",
    "solver2.setJacobian(problem2.Jn,J)\n",
    "solver2.setType('newtonls')\n",
    "solver2.setTolerances(rtol=1.0e-9, max_it=50)\n",
    "solver2.getKSP().setType(\"gmres\")\n",
    "solver2.getKSP().setTolerances(rtol=1.0e-9)\n",
    "solver2.getKSP().getPC().setType(\"none\")\n",
    "opts=PETSc.Options()\n",
    "opts['snes_linesearch_type']='none'\n",
    "opts['ksp_monitor_singular_value']=None\n",
    "solver2.setFromOptions()\n",
    "solver2.setMonitor(lambda snes, it, norm: print(f\"Iteration {it}: Residual Norm = {norm:.6e}\"))"
   ]
  },
  {
   "cell_type": "code",
   "execution_count": 51,
   "id": "c734193b-e925-408e-a14a-41d602d98715",
   "metadata": {},
   "outputs": [
    {
     "name": "stdout",
     "output_type": "stream",
     "text": [
      "Iteration 0: Residual Norm = 4.165445e-14\n",
      "    0 KSP Residual norm 4.165445463154e-14 % max 1.000000000000e+00 min 1.000000000000e+00 max/min 1.000000000000e+00\n",
      "    1 KSP Residual norm 1.309492803727e-14 % max 5.142213190048e+01 min 5.142213190048e+01 max/min 1.000000000000e+00\n",
      "    2 KSP Residual norm 6.179253530961e-15 % max 6.843550966080e+01 min 3.703943655326e+01 max/min 1.847639057964e+00\n",
      "    3 KSP Residual norm 2.910738364194e-15 % max 7.934083142911e+01 min 2.425426517308e+01 max/min 3.271211511168e+00\n",
      "    4 KSP Residual norm 1.744098676235e-15 % max 8.233475921390e+01 min 1.935207645188e+01 max/min 4.254569757341e+00\n",
      "    5 KSP Residual norm 9.146067207894e-16 % max 8.652344572576e+01 min 1.529677183793e+01 max/min 5.656320604274e+00\n",
      "    6 KSP Residual norm 5.573921318352e-16 % max 8.900746560287e+01 min 1.307493098946e+01 max/min 6.807490278505e+00\n",
      "    7 KSP Residual norm 3.459005251523e-16 % max 8.965974180627e+01 min 1.110406131123e+01 max/min 8.074499887312e+00\n",
      "    8 KSP Residual norm 2.281882618396e-16 % max 8.982125469841e+01 min 9.392223775090e+00 max/min 9.563363996568e+00\n",
      "    9 KSP Residual norm 1.547092922866e-16 % max 8.985863541173e+01 min 8.070651873240e+00 max/min 1.113399968467e+01\n",
      "   10 KSP Residual norm 1.204104027617e-16 % max 8.986890179299e+01 min 6.941225012955e+00 max/min 1.294712412078e+01\n",
      "   11 KSP Residual norm 9.834993698402e-17 % max 8.987028186028e+01 min 5.252917135901e+00 max/min 1.710864259519e+01\n",
      "   12 KSP Residual norm 8.306400998641e-17 % max 8.987051902797e+01 min 3.943517420076e+00 max/min 2.278943122464e+01\n",
      "   13 KSP Residual norm 6.906822897633e-17 % max 8.987072166601e+01 min 2.998956405671e+00 max/min 2.996733180118e+01\n",
      "   14 KSP Residual norm 5.911811634358e-17 % max 8.987092241183e+01 min 2.495218463116e+00 max/min 3.601725610013e+01\n",
      "   15 KSP Residual norm 4.870692253657e-17 % max 8.987115427385e+01 min 2.077208168849e+00 max/min 4.326535761876e+01\n",
      "   16 KSP Residual norm 3.922691396946e-17 % max 8.987124658455e+01 min 1.787272250534e+00 max/min 5.028402726987e+01\n",
      "   17 KSP Residual norm 3.023728311079e-17 % max 8.987125627979e+01 min 1.585216351824e+00 max/min 5.669336944220e+01\n",
      "   18 KSP Residual norm 2.402372207817e-17 % max 8.987126072149e+01 min 1.479069660217e+00 max/min 6.076202030153e+01\n",
      "   19 KSP Residual norm 1.854419686912e-17 % max 8.987129588237e+01 min 1.400640309035e+00 max/min 6.416443629576e+01\n",
      "   20 KSP Residual norm 1.343801171176e-17 % max 8.987132147061e+01 min 1.338023781018e+00 max/min 6.716720789689e+01\n",
      "   21 KSP Residual norm 8.997381145520e-18 % max 8.987132662319e+01 min 1.295066522826e+00 max/min 6.939514305959e+01\n",
      "   22 KSP Residual norm 5.694330371745e-18 % max 8.987132763166e+01 min 1.271463495329e+00 max/min 7.068337232005e+01\n",
      "   23 KSP Residual norm 3.324372460953e-18 % max 8.987132847573e+01 min 1.259747582034e+00 max/min 7.134074298487e+01\n",
      "   24 KSP Residual norm 1.861624972786e-18 % max 8.987133282386e+01 min 1.255206062357e+00 max/min 7.159886772306e+01\n",
      "   25 KSP Residual norm 1.083555524832e-18 % max 8.987135476832e+01 min 1.253779348905e+00 max/min 7.168035974339e+01\n",
      "   26 KSP Residual norm 5.790664146517e-19 % max 8.987141888543e+01 min 1.253287070783e+00 max/min 7.170856620203e+01\n",
      "   27 KSP Residual norm 3.326695834193e-19 % max 8.987150316218e+01 min 1.253191374010e+00 max/min 7.171410929413e+01\n",
      "   28 KSP Residual norm 1.995511071237e-19 % max 8.987160485094e+01 min 1.253181085777e+00 max/min 7.171477918949e+01\n",
      "   29 KSP Residual norm 1.267256237805e-19 % max 8.987167573966e+01 min 1.253177966337e+00 max/min 7.171501427076e+01\n",
      "   30 KSP Residual norm 7.439226620738e-20 % max 1.000000000000e+00 min 1.000000000000e+00 max/min 1.000000000000e+00\n",
      "   31 KSP Residual norm 5.458729552276e-20 % max 1.958617173403e+01 min 1.958617173403e+01 max/min 1.000000000000e+00\n",
      "   32 KSP Residual norm 3.835092944125e-20 % max 4.687455597888e+01 min 9.050895584905e+00 max/min 5.178996436226e+00\n",
      "   33 KSP Residual norm 2.604514620448e-20 % max 5.398623266980e+01 min 5.981510555783e+00 max/min 9.025518247662e+00\n",
      "   34 KSP Residual norm 1.759128204010e-20 % max 5.613319950127e+01 min 4.759542956779e+00 max/min 1.179382138390e+01\n",
      "   35 KSP Residual norm 1.187686585058e-20 % max 5.774462071967e+01 min 4.165431511045e+00 max/min 1.386281842987e+01\n",
      "   36 KSP Residual norm 8.211309154842e-21 % max 6.210737658534e+01 min 3.848397876177e+00 max/min 1.613850193864e+01\n",
      "   37 KSP Residual norm 6.030071221181e-21 % max 7.175443554587e+01 min 3.672803535706e+00 max/min 1.953669311421e+01\n",
      "   38 KSP Residual norm 4.406617928069e-21 % max 8.347858874533e+01 min 3.531538850583e+00 max/min 2.363802078280e+01\n",
      "   39 KSP Residual norm 3.475665804939e-21 % max 8.797213849700e+01 min 3.429019086705e+00 max/min 2.565519067481e+01\n",
      "   40 KSP Residual norm 2.755728100406e-21 % max 8.942043934522e+01 min 3.304168847639e+00 max/min 2.706291459927e+01\n",
      "   41 KSP Residual norm 2.269202839771e-21 % max 8.974117107466e+01 min 3.167373862167e+00 max/min 2.833298971952e+01\n",
      "   42 KSP Residual norm 1.893639390944e-21 % max 8.983703259152e+01 min 2.975171491821e+00 max/min 3.019558127607e+01\n",
      "   43 KSP Residual norm 1.653585469137e-21 % max 8.985767485643e+01 min 2.739152105777e+00 max/min 3.280492334359e+01\n",
      "   44 KSP Residual norm 1.409672548330e-21 % max 8.986449445474e+01 min 2.391327319152e+00 max/min 3.757933668679e+01\n",
      "   45 KSP Residual norm 1.172219316622e-21 % max 8.986883478397e+01 min 2.026015321527e+00 max/min 4.435743097749e+01\n",
      "   46 KSP Residual norm 9.433729076779e-22 % max 8.987023937835e+01 min 1.721751036500e+00 max/min 5.219700030560e+01\n",
      "   47 KSP Residual norm 7.120119360890e-22 % max 8.987070207413e+01 min 1.504627004524e+00 max/min 5.972955543395e+01\n",
      "   48 KSP Residual norm 4.508727190851e-22 % max 8.987106556935e+01 min 1.356425865648e+00 max/min 6.625578872047e+01\n",
      "   49 KSP Residual norm 2.450384573319e-22 % max 8.987120610271e+01 min 1.290664254710e+00 max/min 6.963174642419e+01\n",
      "   50 KSP Residual norm 1.226124157751e-22 % max 8.987122035665e+01 min 1.269532704766e+00 max/min 7.079078783814e+01\n",
      "   51 KSP Residual norm 6.245952073058e-23 % max 8.987122041103e+01 min 1.263881999278e+00 max/min 7.110728728030e+01\n",
      "   52 KSP Residual norm 3.705059341384e-23 % max 8.987124063436e+01 min 1.262421195777e+00 max/min 7.118958469250e+01\n",
      "Iteration 1: Residual Norm = 4.248082e-14\n"
     ]
    }
   ],
   "source": [
    "solver2.solve(None,u.x.petsc_vec)"
   ]
  },
  {
   "cell_type": "code",
   "execution_count": 25,
   "id": "7c1ca01f-a81e-4cce-b600-364985309d50",
   "metadata": {},
   "outputs": [],
   "source": [
    "J_test, _, _ = solver2.getJacobian()"
   ]
  },
  {
   "cell_type": "code",
   "execution_count": 38,
   "id": "af011ff9-b0f4-4b64-9945-606184c922a8",
   "metadata": {},
   "outputs": [
    {
     "name": "stdout",
     "output_type": "stream",
     "text": [
      "Help on built-in function getConvergedReason:\n",
      "\n",
      "getConvergedReason(...) method of petsc4py.PETSc.SNES instance\n",
      "    SNES.getConvergedReason(self) -> ConvergedReason\n",
      "    Return the termination flag.\n",
      "\n",
      "            Not collective.\n",
      "\n",
      "            See Also\n",
      "            --------\n",
      "            setConvergedReason, petsc.SNESGetConvergedReason\n",
      "\n",
      "\n",
      "    Source code at petsc4py/PETSc/SNES.pyx:1739\n",
      "\n"
     ]
    }
   ],
   "source": [
    "help(solver2.getConvergedReason)"
   ]
  },
  {
   "cell_type": "code",
   "execution_count": 40,
   "id": "ed5c63af-9a00-41c3-a224-956cb845b9d6",
   "metadata": {},
   "outputs": [
    {
     "name": "stdout",
     "output_type": "stream",
     "text": [
      "Help on built-in function setConvergedReason:\n",
      "\n",
      "setConvergedReason(...) method of petsc4py.PETSc.SNES instance\n",
      "    SNES.setConvergedReason(self, reason: ConvergedReason) -> None\n",
      "    Set the termination flag.\n",
      "\n",
      "            Collective.\n",
      "\n",
      "            See Also\n",
      "            --------\n",
      "            getConvergedReason, petsc.SNESSetConvergedReason\n",
      "\n",
      "\n",
      "    Source code at petsc4py/PETSc/SNES.pyx:1726\n",
      "\n"
     ]
    }
   ],
   "source": [
    "help(solver2.setConvergedReason)"
   ]
  },
  {
   "cell_type": "code",
   "execution_count": 44,
   "id": "f64598fb-6925-4b22-aac3-88fc5b0f190a",
   "metadata": {},
   "outputs": [
    {
     "name": "stdout",
     "output_type": "stream",
     "text": [
      "Help on built-in function setTolerances:\n",
      "\n",
      "setTolerances(...) method of petsc4py.PETSc.KSP instance\n",
      "    KSP.setTolerances(self, rtol: float | None = None, atol: float | None = None, divtol: float | None = None, max_it: int | None = None) -> None\n",
      "    Set various tolerances used by the KSP convergence testers.\n",
      "\n",
      "            Logically collective.\n",
      "\n",
      "            Set the relative, absolute, divergence, and maximum iteration\n",
      "            tolerances used by the default KSP convergence testers.\n",
      "\n",
      "            Parameters\n",
      "            ----------\n",
      "            rtol\n",
      "                The relative convergence tolerance, relative decrease in\n",
      "                the (possibly preconditioned) residual norm.\n",
      "                Or `DETERMINE` to use the value when\n",
      "                the object's type was set.\n",
      "            atol\n",
      "                The absolute convergence tolerance absolute size of the\n",
      "                (possibly preconditioned) residual norm.\n",
      "                Or `DETERMINE` to use the value when\n",
      "                the object's type was set.\n",
      "            dtol\n",
      "                The divergence tolerance, amount (possibly preconditioned)\n",
      "                residual norm can increase before\n",
      "                `petsc.KSPConvergedDefault` concludes that the method is\n",
      "                diverging.\n",
      "                Or `DETERMINE` to use the value when\n",
      "                the object's type was set.\n",
      "            max_it\n",
      "                Maximum number of iterations to use.\n",
      "                Or `DETERMINE` to use the value when\n",
      "                the object's type was set.\n",
      "\n",
      "            Notes\n",
      "            -----\n",
      "            Use `None` to retain the default value of any of the\n",
      "            tolerances.\n",
      "\n",
      "            See Also\n",
      "            --------\n",
      "            petsc_options, getTolerances, setConvergenceTest\n",
      "            petsc.KSPSetTolerances, petsc.KSPConvergedDefault\n",
      "\n",
      "\n",
      "    Source code at petsc4py/PETSc/KSP.pyx:914\n",
      "\n"
     ]
    }
   ],
   "source": [
    "help(solver2.getKSP().setTolerances)"
   ]
  },
  {
   "cell_type": "code",
   "execution_count": null,
   "id": "80ae40e9-5575-47d4-95e9-13fea58c37c0",
   "metadata": {},
   "outputs": [],
   "source": []
  }
 ],
 "metadata": {
  "kernelspec": {
   "display_name": "Python 3 (ipykernel)",
   "language": "python",
   "name": "python3"
  },
  "language_info": {
   "codemirror_mode": {
    "name": "ipython",
    "version": 3
   },
   "file_extension": ".py",
   "mimetype": "text/x-python",
   "name": "python",
   "nbconvert_exporter": "python",
   "pygments_lexer": "ipython3",
   "version": "3.12.3"
  }
 },
 "nbformat": 4,
 "nbformat_minor": 5
}
