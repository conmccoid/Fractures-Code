{
 "cells": [
  {
   "cell_type": "code",
   "execution_count": 1,
   "id": "0baf2256-fe5b-4d53-b95f-61d06554b795",
   "metadata": {},
   "outputs": [],
   "source": [
    "import ufl\n",
    "import numpy as np\n",
    "from mpi4py import MPI\n",
    "from petsc4py import PETSc\n",
    "from dolfinx import mesh, fem, log\n",
    "from dolfinx.fem.petsc import NonlinearProblem\n",
    "from dolfinx.nls.petsc import NewtonSolver"
   ]
  },
  {
   "cell_type": "code",
   "execution_count": 2,
   "id": "c52bd27a-91f9-450e-a5d1-41ab67cd1517",
   "metadata": {},
   "outputs": [],
   "source": [
    "def q(u):\n",
    "    return 1 + u**2\n",
    "\n",
    "domain=mesh.create_unit_square(MPI.COMM_WORLD,10,10)\n",
    "x=ufl.SpatialCoordinate(domain)\n",
    "u_ufl=1 + x[0] + 2*x[1]\n",
    "f=-ufl.div(q(u_ufl) * ufl.grad(u_ufl))"
   ]
  },
  {
   "cell_type": "code",
   "execution_count": 3,
   "id": "310dc19f-fc3a-4fc8-8865-9d51b35720e2",
   "metadata": {},
   "outputs": [],
   "source": [
    "V=fem.functionspace(domain, (\"Lagrange\",1))\n",
    "def u_exact(x): return eval(str(u_ufl))\n",
    "uD=fem.Function(V)\n",
    "uD.interpolate(u_exact)"
   ]
  },
  {
   "cell_type": "code",
   "execution_count": 4,
   "id": "d9a4114a-bdac-44ea-aeaa-961c6d29af63",
   "metadata": {},
   "outputs": [],
   "source": [
    "fdim = domain.topology.dim - 1 # facet dimension\n",
    "boundary_facets = mesh.locate_entities_boundary(domain, fdim, lambda x: np.full(x.shape[1], True, dtype=bool))\n",
    "boundary_dofs = fem.locate_dofs_topological(V, fdim, boundary_facets)\n",
    "bcs = fem.dirichletbc(uD, boundary_dofs)"
   ]
  },
  {
   "cell_type": "code",
   "execution_count": 5,
   "id": "9c6d2262-c202-4e1e-bdfa-8931b324d372",
   "metadata": {},
   "outputs": [],
   "source": [
    "u = fem.Function(V)\n",
    "v = ufl.TestFunction(V)\n",
    "F = q(u) * ufl.inner(ufl.grad(u), ufl.grad(v)) * ufl.dx - f*v*ufl.dx\n",
    "problem = NonlinearProblem(F, u, bcs=[bcs])"
   ]
  },
  {
   "cell_type": "code",
   "execution_count": 6,
   "id": "8caf4c2f-7a9f-41a2-b392-7e81bc19b0f3",
   "metadata": {},
   "outputs": [],
   "source": [
    "from SNESProblem import SNESProblem\n",
    "from dolfinx import la\n",
    "from dolfinx.fem import petsc\n",
    "problem2 = SNESProblem(F, u, bcs=[bcs])\n",
    "b = la.create_petsc_vector(u.function_space.dofmap.index_map, u.function_space.dofmap.index_map_bs)\n",
    "J = petsc.create_matrix(problem2.a)\n",
    "solver2 = PETSc.SNES().create(MPI.COMM_WORLD)\n",
    "solver2.setFunction(problem2.Fn,b)\n",
    "solver2.setJacobian(problem2.Jn,J)\n",
    "solver2.setType('newtonls')\n",
    "solver2.setTolerances(rtol=1.0e-9, max_it=50)\n",
    "solver2.getKSP().setType(\"gmres\")\n",
    "solver2.getKSP().setTolerances(rtol=1.0e-9)\n",
    "solver2.getKSP().getPC().setType(\"none\")\n",
    "opts=PETSc.Options()\n",
    "opts['snes_linesearch_type']='none'\n",
    "solver2.setFromOptions()\n",
    "solver2.setMonitor(lambda snes, it, norm: print(f\"Iteration {it}: Residual Norm = {norm:.6e}\"))"
   ]
  },
  {
   "cell_type": "code",
   "execution_count": null,
   "id": "c734193b-e925-408e-a14a-41d602d98715",
   "metadata": {},
   "outputs": [
    {
     "name": "stdout",
     "output_type": "stream",
     "text": [
      "Iteration 0: Residual Norm = 2.346343e+01\n",
      "Iteration 1: Residual Norm = 2.316770e+01\n",
      "Iteration 2: Residual Norm = 7.140814e+01\n",
      "Iteration 3: Residual Norm = 2.096665e+01\n",
      "Iteration 4: Residual Norm = 4.796017e+00\n",
      "Iteration 5: Residual Norm = 4.530082e-01\n",
      "Iteration 6: Residual Norm = 4.261353e-03\n",
      "Iteration 7: Residual Norm = 3.405549e-07\n",
      "Iteration 8: Residual Norm = 4.255399e-14\n"
     ]
    }
   ],
   "source": [
    "solver2.solve(None,u.x.petsc_vec)"
   ]
  },
  {
   "cell_type": "code",
   "execution_count": null,
   "id": "ae08b30b-4d5c-465d-b914-614ebdff8417",
   "metadata": {},
   "outputs": [],
   "source": []
  }
 ],
 "metadata": {
  "kernelspec": {
   "display_name": "Python 3 (ipykernel)",
   "language": "python",
   "name": "python3"
  },
  "language_info": {
   "codemirror_mode": {
    "name": "ipython",
    "version": 3
   },
   "file_extension": ".py",
   "mimetype": "text/x-python",
   "name": "python",
   "nbconvert_exporter": "python",
   "pygments_lexer": "ipython3",
   "version": "3.10.12"
  }
 },
 "nbformat": 4,
 "nbformat_minor": 5
}
